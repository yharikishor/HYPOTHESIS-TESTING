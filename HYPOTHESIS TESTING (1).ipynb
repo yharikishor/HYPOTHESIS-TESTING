{
 "cells": [
  {
   "cell_type": "markdown",
   "id": "235fa6f4-e2ab-4753-a599-03f68b87d2b9",
   "metadata": {},
   "source": [
    "## HYPOTHESIS TESTINGS"
   ]
  },
  {
   "cell_type": "markdown",
   "id": "0cc98dc5-5d74-4df0-bd5b-a2dc556728a3",
   "metadata": {},
   "source": [
    "### CHI-SQUARE TEST : Association between Device Type and Customer Satisfaction"
   ]
  },
  {
   "cell_type": "markdown",
   "id": "a7569c75-5836-4700-a589-a496562c6a66",
   "metadata": {},
   "source": [
    "### Assignment Tasks:"
   ]
  },
  {
   "cell_type": "markdown",
   "id": "70e553b9-1872-48d6-bf61-fcae2e4417d3",
   "metadata": {},
   "source": [
    "#### 1. State the Hypotheses:"
   ]
  },
  {
   "cell_type": "markdown",
   "id": "032fbb8d-86a3-475b-8db8-9d727bab56b8",
   "metadata": {},
   "source": [
    "#### 1. Null Hypothesis (H₀): \n"
   ]
  },
  {
   "cell_type": "code",
   "execution_count": null,
   "id": "28c7ffaa-f929-4e1b-8526-4a185e51e596",
   "metadata": {},
   "outputs": [],
   "source": [
    "#The starting point of any hypothesis test.\n",
    "#It assumes no effect, no difference, or no change.\n",
    "#We accept it unless there’s strong evidence against it."
   ]
  },
  {
   "cell_type": "markdown",
   "id": "c63f2a9b-986d-40c4-ac2d-e081a1014824",
   "metadata": {},
   "source": [
    "#### 2.Alternative Hypothesis (H₁ or Hₐ)\n"
   ]
  },
  {
   "cell_type": "code",
   "execution_count": null,
   "id": "790f41ed-b0b6-4664-b655-2e5a8821947e",
   "metadata": {},
   "outputs": [],
   "source": [
    "#This is what you want to prove.\n",
    "#It claims there is a difference, an effect, or a change.\n",
    "#If sample evidence is strong enough, we reject H₀ in favor of H₁."
   ]
  },
  {
   "cell_type": "markdown",
   "id": "cea8b2d4-9192-4b6a-875f-a3353cab9d3a",
   "metadata": {},
   "source": [
    "## 2. Compute the Chi-Square Statistic:"
   ]
  },
  {
   "cell_type": "code",
   "execution_count": 27,
   "id": "652f1475-1027-4cf7-8b3b-0ccb2bc031be",
   "metadata": {},
   "outputs": [
    {
     "name": "stdout",
     "output_type": "stream",
     "text": [
      "Chi-Square Statistic: 5.638227513227513\n",
      "Degrees of Freedom: 4\n",
      "P-Value: 0.22784371130697179\n",
      "Expected Frequencies:\n",
      " [[ 48.  72.]\n",
      " [ 72. 108.]\n",
      " [ 60.  90.]\n",
      " [ 32.  48.]\n",
      " [ 28.  42.]]\n"
     ]
    }
   ],
   "source": [
    "import pandas as pd\n",
    "import scipy.stats as stats\n",
    "\n",
    "#  Contingency table\n",
    "data = [[50, 70],\n",
    "        [80, 100],\n",
    "        [60, 90],\n",
    "        [30, 50],\n",
    "        [20, 50]]\n",
    "\n",
    "#  Perform Chi-Square Test\n",
    "chi2, p, dof, expected = stats.chi2_contingency(data)\n",
    "# Output\n",
    "print(\"Chi-Square Statistic:\", chi2)\n",
    "print(\"Degrees of Freedom:\", dof)\n",
    "print(\"P-Value:\", p)\n",
    "print(\"Expected Frequencies:\\n\", expected)"
   ]
  },
  {
   "cell_type": "markdown",
   "id": "ed4a0ecf-93a8-4a91-b8a2-9e3d18303371",
   "metadata": {},
   "source": [
    "### 3.Determine the Critical Value"
   ]
  },
  {
   "cell_type": "code",
   "execution_count": 31,
   "id": "94bbc0d6-86b5-4080-8e61-f421af52bbf7",
   "metadata": {},
   "outputs": [
    {
     "name": "stdout",
     "output_type": "stream",
     "text": [
      "Critical Value: 9.487729036781154\n"
     ]
    }
   ],
   "source": [
    "# Use a significance level α = 0.05 and degrees of freedom = (rows - 1) × (columns - 1) = 4\n",
    "from scipy.stats import chi2\n",
    "alpha = 0.05\n",
    "critical_value = chi2.ppf(1 - alpha, df=dof)\n",
    "print(\"Critical Value:\", critical_value)"
   ]
  },
  {
   "cell_type": "markdown",
   "id": "e1890ac3-3d3a-463b-8520-073c2beddd91",
   "metadata": {},
   "source": [
    "### 4.Make a Decision"
   ]
  },
  {
   "cell_type": "code",
   "execution_count": null,
   "id": "785a6cd0-bb6d-4528-a9bc-81311135d355",
   "metadata": {},
   "outputs": [],
   "source": [
    "# The Chi-Square Statistic = 5.638\n",
    "# The Critical Value = 9.487\n",
    "# The p-value = 0.138\n",
    "# Since:\n",
    "# χ2=5.638<9.487 ( we do not reject the null hypothesis.)\n",
    "# 𝑝=0.227>0.05   (which means it is not statistically significant.)\n",
    "# We fail to reject the null hypothesis.\n",
    "\n",
    "# Explanation:\n",
    "\n",
    "# We checked if people feel differently about Smart Thermostats and Smart Lights.\n",
    "# The result shows:\n",
    "# There’s no strong proof that one device makes people more or less happy than the other.\n",
    "# so,customers are equally likely to feel satisfied or unsatisfied, no matter which device they bought.\n",
    "# That means:Device type doesn’t really affect satisfaction."
   ]
  },
  {
   "cell_type": "markdown",
   "id": "a57ba59d-fdb2-4f99-b88f-a51504bbebf0",
   "metadata": {},
   "source": [
    "### HYPOTHESIS TESTING - Bombay hospitality Ltd. "
   ]
  },
  {
   "cell_type": "code",
   "execution_count": null,
   "id": "565b4253-eaf2-4445-b479-dee8edd5d052",
   "metadata": {},
   "outputs": [],
   "source": [
    "# The Restaurant owners say their weekly costs are more than expected.\n",
    "# But the company thinks costs still follow this formula:\n",
    "# 𝑊=1000+5𝑋\n",
    "# Where:\n",
    "# W = weekly cost\n",
    "# X = units produced"
   ]
  },
  {
   "cell_type": "code",
   "execution_count": null,
   "id": "b14f1813-b75b-4198-95d7-3340790a402e",
   "metadata": {},
   "outputs": [],
   "source": [
    "#given data:\n",
    "#Sample mean (x̄):\t₹3050\n",
    "#Mean units produced:\t600\n",
    "#Std. dev. of units\t:25\n",
    "#Model cost function:\t𝑊=₹1000+₹5𝑋\n",
    "#Significance level:\tα = 0.05"
   ]
  },
  {
   "cell_type": "code",
   "execution_count": null,
   "id": "462128d1-7cfc-4133-b2e7-53f37fb6d012",
   "metadata": {},
   "outputs": [],
   "source": [
    "#Sample size (n):\t25 \n",
    "#Theoretical cost (μ):𝜇=1000+5×600=₹4000\n",
    "#Standard deviation (σ):σ=5×25=₹125\n",
    "#Sample mean: x̄=₹3050\n"
   ]
  },
  {
   "cell_type": "markdown",
   "id": "5dc2d16c-d046-48e8-b884-fcd8884203af",
   "metadata": {},
   "source": [
    "### Assignment Tasks:"
   ]
  },
  {
   "cell_type": "markdown",
   "id": "c7c83262-a6b6-4082-bc68-e576f5aa95da",
   "metadata": {},
   "source": [
    "#### 1.State the Hypotheses statement:\n",
    "##### Null Hypothesis (H₀):The weekly operating cost = ₹4,000 (no increase)\n",
    "##### Alternative Hypothesis (H₁):The weekly operating cost > ₹4,000 (costs have increased)"
   ]
  },
  {
   "cell_type": "markdown",
   "id": "b271bc50-6513-4bc2-8599-4573d6b2b117",
   "metadata": {},
   "source": [
    "## 2.Calculate the Test Statistic:"
   ]
  },
  {
   "cell_type": "code",
   "execution_count": 32,
   "id": "3bf981e0-52a7-41c1-b454-eb29e563c698",
   "metadata": {},
   "outputs": [
    {
     "name": "stdout",
     "output_type": "stream",
     "text": [
      "Z Value :  -38.0\n"
     ]
    }
   ],
   "source": [
    "import math\n",
    "from scipy.stats import norm\n",
    "# Given data\n",
    "sample_mean = 3050\n",
    "x = 1000 + 5 * 600     # Theoretical mean = 4000\n",
    "std_dev = 125\n",
    "n = 25\n",
    "alpha = 0.05\n",
    "#  Z-test statistic\n",
    "z_value = (sample_mean - x) / (std_dev / math.sqrt(n))\n",
    "print(\"Z Value : \",z_value)"
   ]
  },
  {
   "cell_type": "markdown",
   "id": "c5f3ae47-0aba-4bb7-a80d-4e18576903eb",
   "metadata": {},
   "source": [
    "### 3.Determine the Critical Value:"
   ]
  },
  {
   "cell_type": "code",
   "execution_count": 34,
   "id": "a100dc4f-a798-4b66-b9e6-ddc53a8a21d8",
   "metadata": {},
   "outputs": [
    {
     "name": "stdout",
     "output_type": "stream",
     "text": [
      "Critical of Z value :  1.6448536269514722\n"
     ]
    }
   ],
   "source": [
    "# find Critical value of Z\n",
    "alpha=0.05\n",
    "z_critical = norm.ppf(1 - alpha)\n",
    "print(\"Critical of Z value : \",z_critical)\n",
    "# alpha level of 5% (α = 0.05) \n",
    "# The Z is far less than +1.645\n",
    "# we do NOT reject the null hypothesis."
   ]
  },
  {
   "cell_type": "markdown",
   "id": "aa8fbedf-f43b-4a39-acd5-287aaf7adc84",
   "metadata": {},
   "source": [
    "### 4: Make a Decision"
   ]
  },
  {
   "cell_type": "code",
   "execution_count": 23,
   "id": "e995bdd1-c1df-4fcf-9554-3c1cd367bfc6",
   "metadata": {},
   "outputs": [
    {
     "name": "stdout",
     "output_type": "stream",
     "text": [
      " Fail to reject H0 : No significant increase in cost.\n"
     ]
    }
   ],
   "source": [
    "if z_value > z_critical:\n",
    "    print(\" Reject H0 : Weekly cost is significantly higher.\")\n",
    "else:\n",
    "    print(\" Fail to reject H0 : No significant increase in cost.\")"
   ]
  },
  {
   "cell_type": "markdown",
   "id": "ea456364-d68b-4191-bb13-d1fd97431d92",
   "metadata": {},
   "source": [
    "### 5.Conclusion:"
   ]
  },
  {
   "cell_type": "code",
   "execution_count": null,
   "id": "8c94fb4a-1ac4-4e52-a3ba-eb3235c0a866",
   "metadata": {},
   "outputs": [],
   "source": [
    "#The Z value is much smaller than needed to prove costs increased."
   ]
  }
 ],
 "metadata": {
  "kernelspec": {
   "display_name": "Python 3 (ipykernel)",
   "language": "python",
   "name": "python3"
  },
  "language_info": {
   "codemirror_mode": {
    "name": "ipython",
    "version": 3
   },
   "file_extension": ".py",
   "mimetype": "text/x-python",
   "name": "python",
   "nbconvert_exporter": "python",
   "pygments_lexer": "ipython3",
   "version": "3.12.7"
  }
 },
 "nbformat": 4,
 "nbformat_minor": 5
}
